{
 "cells": [
  {
   "cell_type": "code",
   "execution_count": 2,
   "metadata": {
    "collapsed": true
   },
   "outputs": [],
   "source": [
    "import numpy as np\n",
    "import pandas as pd\n",
    "import matplotlib.pyplot as plt\n",
    "%matplotlib inline"
   ]
  },
  {
   "cell_type": "markdown",
   "metadata": {},
   "source": [
    "思路：可以增加的features\n",
    "1. 是否同一ip地址多个帐号\n",
    "2. 登录的平均间隔时间、最短间隔时间、最大间隔时间\n",
    "3. 一天中的交易次数"
   ]
  },
  {
   "cell_type": "code",
   "execution_count": 15,
   "metadata": {
    "collapsed": false
   },
   "outputs": [],
   "source": [
    "trade_df = pd.read_csv('./data/Risk_Detection_Qualification/t_trade.csv', index_col='rowkey', dtype={'id': np.str})\n",
    "login_df = pd.read_csv('./data/Risk_Detection_Qualification/t_login.csv', index_col='log_id', dtype={'id': np.str, 'timestamp': np.str})\n",
    "trade_test_df = pd.read_csv('./data/Risk_Detection_Qualification/t_trade_test.csv', index_col='rowkey', dtype={'id': np.str})\n",
    "login_test_df = pd.read_csv('./data/Risk_Detection_Qualification/t_login_test.csv', index_col='log_id', dtype={'id': np.str, 'timestamp': np.str})"
   ]
  },
  {
   "cell_type": "code",
   "execution_count": 16,
   "metadata": {
    "collapsed": false
   },
   "outputs": [
    {
     "data": {
      "text/plain": [
       "((132719, 3), (129076, 3), (3643, 3))"
      ]
     },
     "execution_count": 16,
     "metadata": {},
     "output_type": "execute_result"
    }
   ],
   "source": [
    "# 得到一列不同的值\n",
    "# login_df['result'].unique()\n",
    "# login_df['id'].unique()\n",
    "# len(login_df['city'].unique()), len(login_df.index)\n",
    "# login_df['is_risk'].count()\n",
    "trade_df.shape, trade_df[trade_df['is_risk']==0].shape, trade_df[trade_df['is_risk']==1].shape"
   ]
  },
  {
   "cell_type": "code",
   "execution_count": 17,
   "metadata": {
    "collapsed": false
   },
   "outputs": [
    {
     "data": {
      "text/plain": [
       "(3643, 129076, 455)"
      ]
     },
     "execution_count": 17,
     "metadata": {},
     "output_type": "execute_result"
    }
   ],
   "source": [
    "trade_df_by_id = trade_df['is_risk'].groupby(trade_df['id'])\n",
    "\n",
    "id_risk_trade   = trade_df[trade_df['is_risk']==1]['id']\n",
    "id_nonrisk_trade = trade_df[trade_df['is_risk']==0]['id']\n",
    "checked_id = set(id_risk) & set(id_nonrisk)\n",
    "len(id_risk), len(id_nonrisk), len(checked_id)"
   ]
  },
  {
   "cell_type": "code",
   "execution_count": 20,
   "metadata": {
    "collapsed": false
   },
   "outputs": [
    {
     "name": "stdout",
     "output_type": "stream",
     "text": [
      "id\n",
      "100002      9\n",
      "100006     21\n",
      "100019      4\n",
      "100020     36\n",
      "100024     11\n",
      "100027      3\n",
      "100039     25\n",
      "100046     45\n",
      "100058     18\n",
      "100063     10\n",
      "100068      9\n",
      "100070      9\n",
      "100077     23\n",
      "100078      3\n",
      "100087     51\n",
      "10009       2\n",
      "100093     81\n",
      "100101      5\n",
      "100108      5\n",
      "100114     13\n",
      "100115      9\n",
      "100127      7\n",
      "100138      3\n",
      "100142     18\n",
      "100154    103\n",
      "100158      6\n",
      "100169     89\n",
      "100172      2\n",
      "100176     17\n",
      "100180      3\n",
      "         ... \n",
      "99823       2\n",
      "99825      10\n",
      "99828      56\n",
      "9983        6\n",
      "99832       8\n",
      "9984       25\n",
      "99840      78\n",
      "99848       1\n",
      "99853      12\n",
      "99855      50\n",
      "99856      22\n",
      "99861       2\n",
      "99871      11\n",
      "99883       1\n",
      "99899       8\n",
      "9990        1\n",
      "99901       7\n",
      "99906       3\n",
      "9991       15\n",
      "99937       5\n",
      "99938      17\n",
      "99943       3\n",
      "99944     125\n",
      "99950      53\n",
      "9996       16\n",
      "99962       4\n",
      "99976     117\n",
      "99977      30\n",
      "9998        6\n",
      "99987       9\n",
      "Name: ip, dtype: int64\n"
     ]
    }
   ],
   "source": [
    "login_df_by_id = login_df['ip'].groupby(login_df['id']).count()\n",
    "print(login_df_by_id)\n",
    "# '175732' in login_df['id']\n",
    "# login_df['id']"
   ]
  },
  {
   "cell_type": "code",
   "execution_count": 21,
   "metadata": {
    "collapsed": false
   },
   "outputs": [
    {
     "data": {
      "text/plain": [
       "array([  1.42864166e+09,   1.42880884e+09,   1.42770470e+09, ...,\n",
       "         1.42967938e+09,   1.42753038e+09,   1.42344511e+09])"
      ]
     },
     "execution_count": 21,
     "metadata": {},
     "output_type": "execute_result"
    }
   ],
   "source": [
    "login_df['timestamp'].unique()"
   ]
  },
  {
   "cell_type": "code",
   "execution_count": null,
   "metadata": {
    "collapsed": true
   },
   "outputs": [],
   "source": []
  },
  {
   "cell_type": "code",
   "execution_count": null,
   "metadata": {
    "collapsed": true
   },
   "outputs": [],
   "source": []
  },
  {
   "cell_type": "code",
   "execution_count": null,
   "metadata": {
    "collapsed": true
   },
   "outputs": [],
   "source": []
  }
 ],
 "metadata": {
  "anaconda-cloud": {},
  "kernelspec": {
   "display_name": "Python [conda root]",
   "language": "python",
   "name": "conda-root-py"
  },
  "language_info": {
   "codemirror_mode": {
    "name": "ipython",
    "version": 3
   },
   "file_extension": ".py",
   "mimetype": "text/x-python",
   "name": "python",
   "nbconvert_exporter": "python",
   "pygments_lexer": "ipython3",
   "version": "3.5.2"
  }
 },
 "nbformat": 4,
 "nbformat_minor": 1
}
