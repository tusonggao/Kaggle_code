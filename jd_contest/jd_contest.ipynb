{
 "cells": [
  {
   "cell_type": "code",
   "execution_count": 2,
   "metadata": {
    "collapsed": true
   },
   "outputs": [],
   "source": [
    "import numpy as np\n",
    "import pandas as pd\n",
    "import matplotlib.pyplot as plt\n",
    "%matplotlib inline"
   ]
  },
  {
   "cell_type": "code",
   "execution_count": 86,
   "metadata": {
    "collapsed": false
   },
   "outputs": [
    {
     "data": {
      "text/plain": [
       "((595645, 12), (87748, 12), (683393, 12))"
      ]
     },
     "execution_count": 86,
     "metadata": {},
     "output_type": "execute_result"
    }
   ],
   "source": [
    "trade_df = pd.read_csv('./data/Risk_Detection_Qualification/t_trade.csv', index_col='rowkey', dtype={'id': np.str})\n",
    "trade_test_df = pd.read_csv('./data/Risk_Detection_Qualification/t_trade_test.csv', index_col='rowkey', dtype={'id': np.str})\n",
    "dateparse = lambda x: pd.datetime.strptime(x, '%Y-%m-%d %H:%M:%S')\n",
    "login_df = pd.read_csv('./data/Risk_Detection_Qualification/t_login.csv', index_col='log_id', \n",
    "                       dtype={'id': np.str, 'timestamp': np.str},\n",
    "                       parse_dates=['time'], date_parser=dateparse)\n",
    "login_test_df = pd.read_csv('./data/Risk_Detection_Qualification/t_login_test.csv', index_col='log_id', \n",
    "                            dtype={'id': np.str, 'timestamp': np.str},\n",
    "                            parse_dates=['time'], date_parser=dateparse)\n",
    "merged_login_df = login_df.append(login_test_df)\n",
    "login_df.shape, login_test_df.shape, merged_login_df.shape"
   ]
  },
  {
   "cell_type": "code",
   "execution_count": 91,
   "metadata": {
    "collapsed": false
   },
   "outputs": [
    {
     "data": {
      "text/plain": [
       "time       132719\n",
       "id         132719\n",
       "is_risk    132719\n",
       "dtype: int64"
      ]
     },
     "execution_count": 91,
     "metadata": {},
     "output_type": "execute_result"
    }
   ],
   "source": [
    "# 得到一列不同的值\n",
    "login_df['result'].unique()\n",
    "login_df['id'].unique()\n",
    "len(login_df['city'].unique()), len(login_df.index)\n",
    "trade_df.count()"
   ]
  },
  {
   "cell_type": "markdown",
   "metadata": {},
   "source": [
    "显示某一列数值的分布情况"
   ]
  },
  {
   "cell_type": "code",
   "execution_count": 93,
   "metadata": {
    "collapsed": false
   },
   "outputs": [
    {
     "data": {
      "text/plain": [
       "0    0.972551\n",
       "1    0.027449\n",
       "Name: is_risk, dtype: float64"
      ]
     },
     "execution_count": 93,
     "metadata": {},
     "output_type": "execute_result"
    }
   ],
   "source": [
    "trade_df.shape, trade_df[trade_df['is_risk']==0].shape, trade_df[trade_df['is_risk']==1].shape\n",
    "login_df.count()\n",
    "#trade_df.is_risk.value_counts(normalize=True).plot(kind='bar', alpha=0.5)\n",
    "trade_df.is_risk.value_counts(normalize=True)\n",
    "#login_df.is_sec.value_counts(normalize=True).plot(kind='bar', alpha=0.5)\n",
    "#login_test_df.is_sec.value_counts(normalize=True).plot(kind='bar', alpha=0.5)\n",
    "#login_test_df.info()"
   ]
  },
  {
   "cell_type": "code",
   "execution_count": 25,
   "metadata": {
    "collapsed": false
   },
   "outputs": [
    {
     "data": {
      "text/plain": [
       "(3643, 129076, 455)"
      ]
     },
     "execution_count": 25,
     "metadata": {},
     "output_type": "execute_result"
    }
   ],
   "source": [
    "trade_df_by_id = trade_df['is_risk'].groupby(trade_df['id'])\n",
    "\n",
    "id_risk_trade   = trade_df[trade_df['is_risk']==1]['id']\n",
    "id_nonrisk_trade = trade_df[trade_df['is_risk']==0]['id']\n",
    "checked_id = set(id_risk) & set(id_nonrisk)\n",
    "len(id_risk), len(id_nonrisk), len(checked_id)"
   ]
  },
  {
   "cell_type": "code",
   "execution_count": 74,
   "metadata": {
    "collapsed": true
   },
   "outputs": [
    {
     "name": "stdout",
     "output_type": "stream",
     "text": [
      "        timelong  device  log_from   ip  city  result  timestamp  type  \\\n",
      "id                                                                       \n",
      "100002         9       9         9    9     9       9          9     9   \n",
      "100006        21      21        21   21    21      21         21    21   \n",
      "100019         4       4         4    4     4       4          4     4   \n",
      "100020        36      36        36   36    36      36         36    36   \n",
      "100024        11      11        11   11    11      11         11    11   \n",
      "100027         3       3         3    3     3       3          3     3   \n",
      "100039        25      25        25   25    25      25         25    25   \n",
      "100046        45      45        45   45    45      45         45    45   \n",
      "100058        18      18        18   18    18      18         18    18   \n",
      "100063        10      10        10   10    10      10         10    10   \n",
      "100068         9       9         9    9     9       9          9     9   \n",
      "100070         9       9         9    9     9       9          9     9   \n",
      "100077        23      23        23   23    23      23         23    23   \n",
      "100078         3       3         3    3     3       3          3     3   \n",
      "100087        51      51        51   51    51      51         51    51   \n",
      "10009          2       2         2    2     2       2          2     2   \n",
      "100093        81      81        81   81    81      81         81    81   \n",
      "100101         5       5         5    5     5       5          5     5   \n",
      "100108         5       5         5    5     5       5          5     5   \n",
      "100114        13      13        13   13    13      13         13    13   \n",
      "100115         9       9         9    9     9       9          9     9   \n",
      "100127         7       7         7    7     7       7          7     7   \n",
      "100138         3       3         3    3     3       3          3     3   \n",
      "100142        18      18        18   18    18      18         18    18   \n",
      "100154       103     103       103  103   103     103        103   103   \n",
      "100158         6       6         6    6     6       6          6     6   \n",
      "100169        89      89        89   89    89      89         89    89   \n",
      "100172         2       2         2    2     2       2          2     2   \n",
      "100176        17      17        17   17    17      17         17    17   \n",
      "100180         3       3         3    3     3       3          3     3   \n",
      "...          ...     ...       ...  ...   ...     ...        ...   ...   \n",
      "99823          2       2         2    2     2       2          2     2   \n",
      "99825         10      10        10   10    10      10         10    10   \n",
      "99828         56      56        56   56    56      56         56    56   \n",
      "9983           6       6         6    6     6       6          6     6   \n",
      "99832          8       8         8    8     8       8          8     8   \n",
      "9984          25      25        25   25    25      25         25    25   \n",
      "99840         78      78        78   78    78      78         78    78   \n",
      "99848          1       1         1    1     1       1          1     1   \n",
      "99853         12      12        12   12    12      12         12    12   \n",
      "99855         50      50        50   50    50      50         50    50   \n",
      "99856         22      22        22   22    22      22         22    22   \n",
      "99861          2       2         2    2     2       2          2     2   \n",
      "99871         11      11        11   11    11      11         11    11   \n",
      "99883          1       1         1    1     1       1          1     1   \n",
      "99899          8       8         8    8     8       8          8     8   \n",
      "9990           1       1         1    1     1       1          1     1   \n",
      "99901          7       7         7    7     7       7          7     7   \n",
      "99906          3       3         3    3     3       3          3     3   \n",
      "9991          15      15        15   15    15      15         15    15   \n",
      "99937          5       5         5    5     5       5          5     5   \n",
      "99938         17      17        17   17    17      17         17    17   \n",
      "99943          3       3         3    3     3       3          3     3   \n",
      "99944        125     125       125  125   125     125        125   125   \n",
      "99950         53      53        53   53    53      53         53    53   \n",
      "9996          16      16        16   16    16      16         16    16   \n",
      "99962          4       4         4    4     4       4          4     4   \n",
      "99976        117     117       117  117   117     117        117   117   \n",
      "99977         30      30        30   30    30      30         30    30   \n",
      "9998           6       6         6    6     6       6          6     6   \n",
      "99987          9       9         9    9     9       9          9     9   \n",
      "\n",
      "        is_scan  is_sec  time  \n",
      "id                             \n",
      "100002        9       9     9  \n",
      "100006       21      21    21  \n",
      "100019        4       4     4  \n",
      "100020       36      36    36  \n",
      "100024       11      11    11  \n",
      "100027        3       3     3  \n",
      "100039       25      25    25  \n",
      "100046       45      45    45  \n",
      "100058       18      18    18  \n",
      "100063       10      10    10  \n",
      "100068        9       9     9  \n",
      "100070        9       9     9  \n",
      "100077       23      23    23  \n",
      "100078        3       3     3  \n",
      "100087       51      51    51  \n",
      "10009         2       2     2  \n",
      "100093       81      81    81  \n",
      "100101        5       5     5  \n",
      "100108        5       5     5  \n",
      "100114       13      13    13  \n",
      "100115        9       9     9  \n",
      "100127        7       7     7  \n",
      "100138        3       3     3  \n",
      "100142       18      18    18  \n",
      "100154      103     103   103  \n",
      "100158        6       6     6  \n",
      "100169       89      89    89  \n",
      "100172        2       2     2  \n",
      "100176       17      17    17  \n",
      "100180        3       3     3  \n",
      "...         ...     ...   ...  \n",
      "99823         2       2     2  \n",
      "99825        10      10    10  \n",
      "99828        56      56    56  \n",
      "9983          6       6     6  \n",
      "99832         8       8     8  \n",
      "9984         25      25    25  \n",
      "99840        78      78    78  \n",
      "99848         1       1     1  \n",
      "99853        12      12    12  \n",
      "99855        50      50    50  \n",
      "99856        22      22    22  \n",
      "99861         2       2     2  \n",
      "99871        11      11    11  \n",
      "99883         1       1     1  \n",
      "99899         8       8     8  \n",
      "9990          1       1     1  \n",
      "99901         7       7     7  \n",
      "99906         3       3     3  \n",
      "9991         15      15    15  \n",
      "99937         5       5     5  \n",
      "99938        17      17    17  \n",
      "99943         3       3     3  \n",
      "99944       125     125   125  \n",
      "99950        53      53    53  \n",
      "9996         16      16    16  \n",
      "99962         4       4     4  \n",
      "99976       117     117   117  \n",
      "99977        30      30    30  \n",
      "9998          6       6     6  \n",
      "99987         9       9     9  \n",
      "\n",
      "[27155 rows x 11 columns]\n"
     ]
    }
   ],
   "source": [
    "login_df_by_id = login_df.groupby(login_df['id']).count()\n",
    "print(login_df_by_id)\n",
    "#ratio = len(trade_df[trade_df['is_risk']==1])/len(trade_df)\n",
    "#len(trade_df[trade_df['is_risk']==1]), len(trade_df)\n",
    "# login_df['id']"
   ]
  },
  {
   "cell_type": "markdown",
   "metadata": {},
   "source": [
    "显示trade_df和test_df中id的关系"
   ]
  },
  {
   "cell_type": "code",
   "execution_count": 89,
   "metadata": {
    "collapsed": false
   },
   "outputs": [
    {
     "data": {
      "text/plain": [
       "(True, False)"
      ]
     },
     "execution_count": 89,
     "metadata": {},
     "output_type": "execute_result"
    }
   ],
   "source": [
    "login_id_set = set(login_df['id'])\n",
    "login_test_id_set = set(login_test_df['id'])\n",
    "trade_id_set = set(trade_df['id'])\n",
    "trade_test_id_set = set(trade_test_df['id'])\n",
    "set(merged_login_df['id']) == (trade_id_set | trade_test_id_set)\n",
    "set(merged_login_df['id']) > trade_id_set, login_id_set > trade_id_set"
   ]
  },
  {
   "cell_type": "markdown",
   "metadata": {},
   "source": [
    "对比显示：对于有危险登录的id和没有危险登录的id，在历史登录记录中ip数量 city数量分布"
   ]
  },
  {
   "cell_type": "code",
   "execution_count": 125,
   "metadata": {
    "collapsed": false
   },
   "outputs": [
    {
     "data": {
      "text/plain": [
       "21.508036365031263"
      ]
     },
     "execution_count": 125,
     "metadata": {},
     "output_type": "execute_result"
    }
   ],
   "source": [
    "risk_id = trade_df[trade_df.is_risk==1]['id'].unique()\n",
    "len(risk_id)\n",
    "ip_count = login_df[['ip', 'id']].groupby('id').count()\n",
    "risk_ip_count = ip_count[ip_count.index.isin(risk_id)]\n",
    "# risk_ip_count['ip'].value_counts(normalize=True).plot(kind='bar', alpha=0.5)\n",
    "nonrisk_ip_count = ip_count[~(ip_count.index.isin(risk_id))]\n",
    "nonrisk_ip_count['ip'].mean()\n",
    "#login_id_set"
   ]
  },
  {
   "cell_type": "markdown",
   "metadata": {},
   "source": [
    "显示某一个数值是否有同一ip多个帐号的情况"
   ]
  },
  {
   "cell_type": "code",
   "execution_count": 132,
   "metadata": {
    "collapsed": false
   },
   "outputs": [
    {
     "data": {
      "text/html": [
       "<div>\n",
       "<table border=\"1\" class=\"dataframe\">\n",
       "  <thead>\n",
       "    <tr style=\"text-align: right;\">\n",
       "      <th></th>\n",
       "      <th>id</th>\n",
       "    </tr>\n",
       "    <tr>\n",
       "      <th>ip</th>\n",
       "      <th></th>\n",
       "    </tr>\n",
       "  </thead>\n",
       "  <tbody>\n",
       "    <tr>\n",
       "      <th>359080</th>\n",
       "      <td>20408</td>\n",
       "    </tr>\n",
       "    <tr>\n",
       "      <th>847186</th>\n",
       "      <td>1737</td>\n",
       "    </tr>\n",
       "    <tr>\n",
       "      <th>1128532</th>\n",
       "      <td>871</td>\n",
       "    </tr>\n",
       "    <tr>\n",
       "      <th>1551343</th>\n",
       "      <td>813</td>\n",
       "    </tr>\n",
       "    <tr>\n",
       "      <th>1297757</th>\n",
       "      <td>467</td>\n",
       "    </tr>\n",
       "    <tr>\n",
       "      <th>877190</th>\n",
       "      <td>455</td>\n",
       "    </tr>\n",
       "    <tr>\n",
       "      <th>621905</th>\n",
       "      <td>384</td>\n",
       "    </tr>\n",
       "    <tr>\n",
       "      <th>451870</th>\n",
       "      <td>379</td>\n",
       "    </tr>\n",
       "    <tr>\n",
       "      <th>743802</th>\n",
       "      <td>331</td>\n",
       "    </tr>\n",
       "    <tr>\n",
       "      <th>851032</th>\n",
       "      <td>296</td>\n",
       "    </tr>\n",
       "    <tr>\n",
       "      <th>799641</th>\n",
       "      <td>288</td>\n",
       "    </tr>\n",
       "    <tr>\n",
       "      <th>1135082</th>\n",
       "      <td>272</td>\n",
       "    </tr>\n",
       "    <tr>\n",
       "      <th>65530</th>\n",
       "      <td>241</td>\n",
       "    </tr>\n",
       "    <tr>\n",
       "      <th>1491826</th>\n",
       "      <td>234</td>\n",
       "    </tr>\n",
       "    <tr>\n",
       "      <th>248586</th>\n",
       "      <td>221</td>\n",
       "    </tr>\n",
       "    <tr>\n",
       "      <th>543306</th>\n",
       "      <td>217</td>\n",
       "    </tr>\n",
       "    <tr>\n",
       "      <th>1419103</th>\n",
       "      <td>212</td>\n",
       "    </tr>\n",
       "    <tr>\n",
       "      <th>1470087</th>\n",
       "      <td>206</td>\n",
       "    </tr>\n",
       "    <tr>\n",
       "      <th>1035194</th>\n",
       "      <td>203</td>\n",
       "    </tr>\n",
       "    <tr>\n",
       "      <th>965693</th>\n",
       "      <td>202</td>\n",
       "    </tr>\n",
       "    <tr>\n",
       "      <th>1427230</th>\n",
       "      <td>200</td>\n",
       "    </tr>\n",
       "    <tr>\n",
       "      <th>1385980</th>\n",
       "      <td>193</td>\n",
       "    </tr>\n",
       "    <tr>\n",
       "      <th>110109</th>\n",
       "      <td>193</td>\n",
       "    </tr>\n",
       "    <tr>\n",
       "      <th>1110972</th>\n",
       "      <td>191</td>\n",
       "    </tr>\n",
       "    <tr>\n",
       "      <th>778990</th>\n",
       "      <td>190</td>\n",
       "    </tr>\n",
       "    <tr>\n",
       "      <th>379828</th>\n",
       "      <td>187</td>\n",
       "    </tr>\n",
       "    <tr>\n",
       "      <th>622198</th>\n",
       "      <td>182</td>\n",
       "    </tr>\n",
       "    <tr>\n",
       "      <th>723633</th>\n",
       "      <td>179</td>\n",
       "    </tr>\n",
       "    <tr>\n",
       "      <th>942358</th>\n",
       "      <td>179</td>\n",
       "    </tr>\n",
       "    <tr>\n",
       "      <th>744802</th>\n",
       "      <td>177</td>\n",
       "    </tr>\n",
       "    <tr>\n",
       "      <th>...</th>\n",
       "      <td>...</td>\n",
       "    </tr>\n",
       "    <tr>\n",
       "      <th>756134</th>\n",
       "      <td>1</td>\n",
       "    </tr>\n",
       "    <tr>\n",
       "      <th>756137</th>\n",
       "      <td>1</td>\n",
       "    </tr>\n",
       "    <tr>\n",
       "      <th>756141</th>\n",
       "      <td>1</td>\n",
       "    </tr>\n",
       "    <tr>\n",
       "      <th>756151</th>\n",
       "      <td>1</td>\n",
       "    </tr>\n",
       "    <tr>\n",
       "      <th>756166</th>\n",
       "      <td>1</td>\n",
       "    </tr>\n",
       "    <tr>\n",
       "      <th>756178</th>\n",
       "      <td>1</td>\n",
       "    </tr>\n",
       "    <tr>\n",
       "      <th>136031</th>\n",
       "      <td>1</td>\n",
       "    </tr>\n",
       "    <tr>\n",
       "      <th>756193</th>\n",
       "      <td>1</td>\n",
       "    </tr>\n",
       "    <tr>\n",
       "      <th>756197</th>\n",
       "      <td>1</td>\n",
       "    </tr>\n",
       "    <tr>\n",
       "      <th>756200</th>\n",
       "      <td>1</td>\n",
       "    </tr>\n",
       "    <tr>\n",
       "      <th>756079</th>\n",
       "      <td>1</td>\n",
       "    </tr>\n",
       "    <tr>\n",
       "      <th>756067</th>\n",
       "      <td>1</td>\n",
       "    </tr>\n",
       "    <tr>\n",
       "      <th>136054</th>\n",
       "      <td>1</td>\n",
       "    </tr>\n",
       "    <tr>\n",
       "      <th>756063</th>\n",
       "      <td>1</td>\n",
       "    </tr>\n",
       "    <tr>\n",
       "      <th>755846</th>\n",
       "      <td>1</td>\n",
       "    </tr>\n",
       "    <tr>\n",
       "      <th>136047</th>\n",
       "      <td>1</td>\n",
       "    </tr>\n",
       "    <tr>\n",
       "      <th>755862</th>\n",
       "      <td>1</td>\n",
       "    </tr>\n",
       "    <tr>\n",
       "      <th>755872</th>\n",
       "      <td>1</td>\n",
       "    </tr>\n",
       "    <tr>\n",
       "      <th>755873</th>\n",
       "      <td>1</td>\n",
       "    </tr>\n",
       "    <tr>\n",
       "      <th>755928</th>\n",
       "      <td>1</td>\n",
       "    </tr>\n",
       "    <tr>\n",
       "      <th>755931</th>\n",
       "      <td>1</td>\n",
       "    </tr>\n",
       "    <tr>\n",
       "      <th>755937</th>\n",
       "      <td>1</td>\n",
       "    </tr>\n",
       "    <tr>\n",
       "      <th>755949</th>\n",
       "      <td>1</td>\n",
       "    </tr>\n",
       "    <tr>\n",
       "      <th>136044</th>\n",
       "      <td>1</td>\n",
       "    </tr>\n",
       "    <tr>\n",
       "      <th>755983</th>\n",
       "      <td>1</td>\n",
       "    </tr>\n",
       "    <tr>\n",
       "      <th>755989</th>\n",
       "      <td>1</td>\n",
       "    </tr>\n",
       "    <tr>\n",
       "      <th>755996</th>\n",
       "      <td>1</td>\n",
       "    </tr>\n",
       "    <tr>\n",
       "      <th>756040</th>\n",
       "      <td>1</td>\n",
       "    </tr>\n",
       "    <tr>\n",
       "      <th>756054</th>\n",
       "      <td>1</td>\n",
       "    </tr>\n",
       "    <tr>\n",
       "      <th>4</th>\n",
       "      <td>1</td>\n",
       "    </tr>\n",
       "  </tbody>\n",
       "</table>\n",
       "<p>226968 rows × 1 columns</p>\n",
       "</div>"
      ],
      "text/plain": [
       "            id\n",
       "ip            \n",
       "359080   20408\n",
       "847186    1737\n",
       "1128532    871\n",
       "1551343    813\n",
       "1297757    467\n",
       "877190     455\n",
       "621905     384\n",
       "451870     379\n",
       "743802     331\n",
       "851032     296\n",
       "799641     288\n",
       "1135082    272\n",
       "65530      241\n",
       "1491826    234\n",
       "248586     221\n",
       "543306     217\n",
       "1419103    212\n",
       "1470087    206\n",
       "1035194    203\n",
       "965693     202\n",
       "1427230    200\n",
       "1385980    193\n",
       "110109     193\n",
       "1110972    191\n",
       "778990     190\n",
       "379828     187\n",
       "622198     182\n",
       "723633     179\n",
       "942358     179\n",
       "744802     177\n",
       "...        ...\n",
       "756134       1\n",
       "756137       1\n",
       "756141       1\n",
       "756151       1\n",
       "756166       1\n",
       "756178       1\n",
       "136031       1\n",
       "756193       1\n",
       "756197       1\n",
       "756200       1\n",
       "756079       1\n",
       "756067       1\n",
       "136054       1\n",
       "756063       1\n",
       "755846       1\n",
       "136047       1\n",
       "755862       1\n",
       "755872       1\n",
       "755873       1\n",
       "755928       1\n",
       "755931       1\n",
       "755937       1\n",
       "755949       1\n",
       "136044       1\n",
       "755983       1\n",
       "755989       1\n",
       "755996       1\n",
       "756040       1\n",
       "756054       1\n",
       "4            1\n",
       "\n",
       "[226968 rows x 1 columns]"
      ]
     },
     "execution_count": 132,
     "metadata": {},
     "output_type": "execute_result"
    }
   ],
   "source": [
    "id_per_ip_count = login_df[['ip', 'id']].groupby('ip').count()\n",
    "id_per_ip_count['id'].max()\n",
    "id_per_ip_count.sort_values(by='id', ascending = False)"
   ]
  },
  {
   "cell_type": "code",
   "execution_count": 124,
   "metadata": {
    "collapsed": false
   },
   "outputs": [
    {
     "data": {
      "text/plain": [
       "32.1841620626151"
      ]
     },
     "execution_count": 124,
     "metadata": {},
     "output_type": "execute_result"
    }
   ],
   "source": [
    "risk_ip_count\n",
    "risk_ip_count['ip'].mean()"
   ]
  },
  {
   "cell_type": "code",
   "execution_count": null,
   "metadata": {
    "collapsed": true
   },
   "outputs": [],
   "source": []
  }
 ],
 "metadata": {
  "anaconda-cloud": {},
  "kernelspec": {
   "display_name": "Python [conda root]",
   "language": "python",
   "name": "conda-root-py"
  },
  "language_info": {
   "codemirror_mode": {
    "name": "ipython",
    "version": 3
   },
   "file_extension": ".py",
   "mimetype": "text/x-python",
   "name": "python",
   "nbconvert_exporter": "python",
   "pygments_lexer": "ipython3",
   "version": "3.5.2"
  }
 },
 "nbformat": 4,
 "nbformat_minor": 1
}
