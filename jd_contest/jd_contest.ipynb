{
 "cells": [
  {
   "cell_type": "code",
   "execution_count": 2,
   "metadata": {
    "collapsed": true
   },
   "outputs": [],
   "source": [
    "import numpy as np\n",
    "import pandas as pd\n",
    "import matplotlib.pyplot as plt\n",
    "%matplotlib inline"
   ]
  },
  {
   "cell_type": "markdown",
   "metadata": {},
   "source": [
    "思路：可以增加的features\n",
    "1. 是否同一ip地址多个帐号\n",
    "2. 登录的平均间隔时间、最短间隔时间、最大间隔时间\n",
    "3. 一天中的交易次数"
   ]
  },
  {
   "cell_type": "code",
   "execution_count": 3,
   "metadata": {
    "collapsed": false
   },
   "outputs": [],
   "source": [
    "trade_df = pd.read_csv('./data/Risk_Detection_Qualification/t_trade.csv', index_col='rowkey')\n",
    "login_df = pd.read_csv('./data/Risk_Detection_Qualification/t_login.csv', index_col='log_id')\n",
    "trade_test_df = pd.read_csv('./data/Risk_Detection_Qualification/t_trade_test.csv', index_col='rowkey')\n",
    "login_test_df = pd.read_csv('./data/Risk_Detection_Qualification/t_login_test.csv', index_col='log_id')"
   ]
  },
  {
   "cell_type": "code",
   "execution_count": 4,
   "metadata": {
    "collapsed": false
   },
   "outputs": [
    {
     "data": {
      "text/plain": [
       "((132719, 3), (129076, 3), (3643, 3))"
      ]
     },
     "execution_count": 4,
     "metadata": {},
     "output_type": "execute_result"
    }
   ],
   "source": [
    "# 得到一列不同的值\n",
    "# login_df['result'].unique()\n",
    "# login_df['id'].unique()\n",
    "# len(login_df['city'].unique()), len(login_df.index)\n",
    "# login_df['is_risk'].count()\n",
    "trade_df.shape, trade_df[trade_df['is_risk']==0].shape, trade_df[trade_df['is_risk']==1].shape"
   ]
  },
  {
   "cell_type": "code",
   "execution_count": 5,
   "metadata": {
    "collapsed": false
   },
   "outputs": [
    {
     "data": {
      "text/plain": [
       "(3643, 129076, 455)"
      ]
     },
     "execution_count": 5,
     "metadata": {},
     "output_type": "execute_result"
    }
   ],
   "source": [
    "trade_df_by_id = trade_df['is_risk'].groupby(trade_df['id'])\n",
    "\n",
    "id_risk_trade   = trade_df[trade_df['is_risk']==1]['id']\n",
    "id_nonrisk_trade = trade_df[trade_df['is_risk']==0]['id']\n",
    "checked_id = set(id_risk) & set(id_nonrisk)\n",
    "len(id_risk), len(id_nonrisk), len(checked_id)"
   ]
  },
  {
   "cell_type": "code",
   "execution_count": 14,
   "metadata": {
    "collapsed": false
   },
   "outputs": [
    {
     "data": {
      "text/plain": [
       "log_id\n",
       "2.618369e+15    116825\n",
       "9.969739e+14    109987\n",
       "8.123343e+15    116825\n",
       "3.265677e+14    116825\n",
       "6.684659e+15    116825\n",
       "8.828481e+15    116825\n",
       "6.071119e+15    116825\n",
       "8.525176e+15    109987\n",
       "3.120145e+15    116825\n",
       "5.367905e+15    109987\n",
       "3.378803e+15    109987\n",
       "4.255256e+16    109987\n",
       "9.536343e+15    109987\n",
       "3.776181e+15    109987\n",
       "8.824729e+15    109987\n",
       "3.315790e+16    153075\n",
       "5.175846e+15    153075\n",
       "6.456778e+15    153075\n",
       "1.912764e+15    153075\n",
       "2.349293e+16    153075\n",
       "3.722752e+15    153075\n",
       "3.030546e+15     20004\n",
       "1.308425e+16     29583\n",
       "7.065851e+15     29583\n",
       "8.592228e+15     29583\n",
       "3.122594e+16    165362\n",
       "4.427012e+16     91358\n",
       "6.737734e+14    153075\n",
       "5.275490e+15     18169\n",
       "7.227700e+15     22816\n",
       "                 ...  \n",
       "1.102321e+16     59434\n",
       "6.801987e+14      3608\n",
       "3.643520e+16      3608\n",
       "5.601965e+15      4855\n",
       "9.184832e+15     47845\n",
       "4.288803e+15     47845\n",
       "8.548634e+15     47845\n",
       "6.652598e+15     47845\n",
       "7.117072e+15     47845\n",
       "5.932818e+15     65043\n",
       "9.354748e+15     65043\n",
       "9.620718e+15     65043\n",
       "1.797260e+16     65043\n",
       "9.125529e+15    155657\n",
       "7.213388e+15    155657\n",
       "7.796428e+15    120547\n",
       "5.214387e+15    120547\n",
       "8.934624e+15    120547\n",
       "1.575974e+16    120547\n",
       "6.814851e+15    150759\n",
       "8.451034e+14    100971\n",
       "8.141103e+15    109592\n",
       "4.600459e+16    109592\n",
       "9.895350e+15    102528\n",
       "7.844215e+15    102528\n",
       "5.401465e+15    102528\n",
       "2.518347e+16    170341\n",
       "7.586014e+15    159951\n",
       "2.696305e+15     48673\n",
       "8.623685e+15     48673\n",
       "Name: id, dtype: int64"
      ]
     },
     "execution_count": 14,
     "metadata": {},
     "output_type": "execute_result"
    }
   ],
   "source": [
    "login_df_by_id = login_df['ip'].groupby(login_df['id']).count()\n",
    "#print(login_df_by_id)\n",
    "# '175732' in login_df['id']\n",
    "login_df['id']"
   ]
  },
  {
   "cell_type": "code",
   "execution_count": 11,
   "metadata": {
    "collapsed": false
   },
   "outputs": [
    {
     "data": {
      "text/plain": [
       "False"
      ]
     },
     "execution_count": 11,
     "metadata": {},
     "output_type": "execute_result"
    }
   ],
   "source": [
    "'175766' in id_risk\n",
    "'175766' in id_nonrisk"
   ]
  },
  {
   "cell_type": "code",
   "execution_count": null,
   "metadata": {
    "collapsed": true
   },
   "outputs": [],
   "source": []
  },
  {
   "cell_type": "code",
   "execution_count": null,
   "metadata": {
    "collapsed": true
   },
   "outputs": [],
   "source": []
  },
  {
   "cell_type": "code",
   "execution_count": null,
   "metadata": {
    "collapsed": true
   },
   "outputs": [],
   "source": []
  }
 ],
 "metadata": {
  "anaconda-cloud": {},
  "kernelspec": {
   "display_name": "Python [conda root]",
   "language": "python",
   "name": "conda-root-py"
  },
  "language_info": {
   "codemirror_mode": {
    "name": "ipython",
    "version": 3
   },
   "file_extension": ".py",
   "mimetype": "text/x-python",
   "name": "python",
   "nbconvert_exporter": "python",
   "pygments_lexer": "ipython3",
   "version": "3.5.2"
  }
 },
 "nbformat": 4,
 "nbformat_minor": 1
}
