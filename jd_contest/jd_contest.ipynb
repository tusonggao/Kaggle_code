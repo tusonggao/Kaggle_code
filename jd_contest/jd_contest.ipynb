{
 "cells": [
  {
   "cell_type": "code",
   "execution_count": 2,
   "metadata": {
    "collapsed": true
   },
   "outputs": [],
   "source": [
    "import numpy as np\n",
    "import pandas as pd\n",
    "import matplotlib.pyplot as plt\n",
    "%matplotlib inline"
   ]
  },
  {
   "cell_type": "markdown",
   "metadata": {},
   "source": [
    "思路：可以增加的features\n",
    "1. 是否同一ip地址多个帐号\n",
    "2. 登录的平均间隔时间、最短间隔时间、最大间隔时间\n",
    "3. 一天中的交易次数\n",
    "\n",
    "注意点：\n",
    "1. is_sec这个字段没有用，因为所有的值都是False"
   ]
  },
  {
   "cell_type": "code",
   "execution_count": 57,
   "metadata": {
    "collapsed": false
   },
   "outputs": [],
   "source": [
    "trade_df = pd.read_csv('./data/Risk_Detection_Qualification/t_trade.csv', index_col='rowkey', dtype={'id': np.str})\n",
    "dateparse = lambda x: pd.datetime.strptime(x, '%Y-%m-%d %H:%M:%S')\n",
    "login_df = pd.read_csv('./data/Risk_Detection_Qualification/t_login.csv', index_col='log_id', \n",
    "                       dtype={'id': np.str, 'timestamp': np.str},\n",
    "                       parse_dates=['time'], date_parser=dateparse)\n",
    "trade_test_df = pd.read_csv('./data/Risk_Detection_Qualification/t_trade_test.csv', index_col='rowkey', dtype={'id': np.str})\n",
    "login_test_df = pd.read_csv('./data/Risk_Detection_Qualification/t_login_test.csv', index_col='log_id', dtype={'id': np.str, 'timestamp': np.str})"
   ]
  },
  {
   "cell_type": "code",
   "execution_count": 66,
   "metadata": {
    "collapsed": false
   },
   "outputs": [
    {
     "data": {
      "text/plain": [
       "<matplotlib.axes._subplots.AxesSubplot at 0x2ac57080>"
      ]
     },
     "execution_count": 66,
     "metadata": {},
     "output_type": "execute_result"
    },
    {
     "data": {
      "image/png": "[encoded data removed]",
      "text/plain": [
       "<matplotlib.figure.Figure at 0x2b89f438>"
      ]
     },
     "metadata": {},
     "output_type": "display_data"
    }
   ],
   "source": [
    "# 得到一列不同的值\n",
    "# login_df['result'].unique()\n",
    "# login_df['id'].unique()\n",
    "# len(login_df['city'].unique()), len(login_df.index)\n",
    "# login_df['is_risk'].count()\n",
    "trade_df.shape, trade_df[trade_df['is_risk']==0].shape, trade_df[trade_df['is_risk']==1].shape\n",
    "login_df.count()\n",
    "#trade_df.is_risk.value_counts(normalize=True).plot(kind='bar', alpha=0.5)\n",
    "#login_df.is_sec.value_counts(normalize=True).plot(kind='bar', alpha=0.5)\n",
    "login_test_df.is_sec.value_counts(normalize=True).plot(kind='bar', alpha=0.5)\n",
    "#login_test_df.info()"
   ]
  },
  {
   "cell_type": "code",
   "execution_count": 25,
   "metadata": {
    "collapsed": false
   },
   "outputs": [
    {
     "data": {
      "text/plain": [
       "(3643, 129076, 455)"
      ]
     },
     "execution_count": 25,
     "metadata": {},
     "output_type": "execute_result"
    }
   ],
   "source": [
    "trade_df_by_id = trade_df['is_risk'].groupby(trade_df['id'])\n",
    "\n",
    "id_risk_trade   = trade_df[trade_df['is_risk']==1]['id']\n",
    "id_nonrisk_trade = trade_df[trade_df['is_risk']==0]['id']\n",
    "checked_id = set(id_risk) & set(id_nonrisk)\n",
    "len(id_risk), len(id_nonrisk), len(checked_id)"
   ]
  },
  {
   "cell_type": "code",
   "execution_count": 30,
   "metadata": {
    "collapsed": false
   },
   "outputs": [
    {
     "data": {
      "text/plain": [
       "(3643, 132719)"
      ]
     },
     "execution_count": 30,
     "metadata": {},
     "output_type": "execute_result"
    }
   ],
   "source": [
    "login_df_by_id = login_df['ip'].groupby(login_df['id']).count()\n",
    "# print(login_df_by_id)\n",
    "ratio = len(trade_df[trade_df['is_risk']==1])/len(trade_df)\n",
    "len(trade_df[trade_df['is_risk']==1]), len(trade_df)\n",
    "# login_df['id']"
   ]
  },
  {
   "cell_type": "code",
   "execution_count": 27,
   "metadata": {
    "collapsed": false
   },
   "outputs": [
    {
     "data": {
      "text/plain": [
       "array(['1.428641659E9', '1.428808845E9', '1.4277047E9', ...,\n",
       "       '1.42967938E9', '1.42753038E9', '1.423445106E9'], dtype=object)"
      ]
     },
     "execution_count": 27,
     "metadata": {},
     "output_type": "execute_result"
    }
   ],
   "source": [
    "login_df['timestamp'].unique()"
   ]
  },
  {
   "cell_type": "code",
   "execution_count": null,
   "metadata": {
    "collapsed": true
   },
   "outputs": [],
   "source": []
  },
  {
   "cell_type": "code",
   "execution_count": null,
   "metadata": {
    "collapsed": true
   },
   "outputs": [],
   "source": []
  },
  {
   "cell_type": "code",
   "execution_count": null,
   "metadata": {
    "collapsed": true
   },
   "outputs": [],
   "source": []
  }
 ],
 "metadata": {
  "anaconda-cloud": {},
  "kernelspec": {
   "display_name": "Python [conda root]",
   "language": "python",
   "name": "conda-root-py"
  },
  "language_info": {
   "codemirror_mode": {
    "name": "ipython",
    "version": 3
   },
   "file_extension": ".py",
   "mimetype": "text/x-python",
   "name": "python",
   "nbconvert_exporter": "python",
   "pygments_lexer": "ipython3",
   "version": "3.5.2"
  }
 },
 "nbformat": 4,
 "nbformat_minor": 1
}
