{
 "cells": [
  {
   "cell_type": "code",
   "execution_count": 1,
   "metadata": {
    "collapsed": true
   },
   "outputs": [],
   "source": [
    "import numpy as np\n",
    "import pandas as pd\n",
    "import matplotlib.pyplot as plt\n",
    "%matplotlib inline"
   ]
  },
  {
   "cell_type": "markdown",
   "metadata": {},
   "source": [
    "思路：可以增加的features\n",
    "1. 是否同一ip地址多个帐号\n",
    "2. 登录的平均间隔时间、最短间隔时间、最大间隔时间\n",
    "3. "
   ]
  },
  {
   "cell_type": "code",
   "execution_count": 2,
   "metadata": {
    "collapsed": false
   },
   "outputs": [],
   "source": [
    "trade_df = pd.read_csv('./data/Risk_Detection_Qualification/t_trade.csv', index_col='rowkey')\n",
    "login_df = pd.read_csv('./data/Risk_Detection_Qualification/t_login.csv', index_col='log_id')"
   ]
  },
  {
   "cell_type": "code",
   "execution_count": 31,
   "metadata": {
    "collapsed": false
   },
   "outputs": [
    {
     "data": {
      "text/plain": [
       "rowkey\n",
       "555        18138\n",
       "560        18138\n",
       "566        18138\n",
       "576        18138\n",
       "1348       65489\n",
       "1369       65489\n",
       "1888       90970\n",
       "3334       55986\n",
       "5766      154625\n",
       "5868      131624\n",
       "5873      131624\n",
       "5876      131624\n",
       "5881      131624\n",
       "5883      131624\n",
       "5887      131624\n",
       "5888      131624\n",
       "5892      131624\n",
       "5906      163711\n",
       "6192       90970\n",
       "6193       90970\n",
       "6195       90970\n",
       "6335      141236\n",
       "6813       97238\n",
       "7066       97238\n",
       "7485       97238\n",
       "7723       55986\n",
       "8668      173999\n",
       "8801      118753\n",
       "9104      118753\n",
       "9161      118753\n",
       "           ...  \n",
       "935086    175795\n",
       "935159     80306\n",
       "936581    123869\n",
       "936619    107846\n",
       "936642    107846\n",
       "936647    107846\n",
       "939694    123869\n",
       "939968     69119\n",
       "940129    121086\n",
       "943042    163142\n",
       "944359    123869\n",
       "945823    175546\n",
       "945858     97437\n",
       "945868    175546\n",
       "945880     97437\n",
       "945908    175546\n",
       "946031    175546\n",
       "946040    175546\n",
       "946043    175546\n",
       "946060    175546\n",
       "946181    136428\n",
       "946195    136428\n",
       "946196    136428\n",
       "946198    136428\n",
       "949071     21018\n",
       "949297     23303\n",
       "949495     23303\n",
       "949562    134855\n",
       "950006    123869\n",
       "950134    123869\n",
       "Name: id, dtype: int64"
      ]
     },
     "execution_count": 31,
     "metadata": {},
     "output_type": "execute_result"
    }
   ],
   "source": [
    "# 得到一列不同的值\n",
    "# login_df['result'].unique()\n",
    "# login_df['id'].unique()\n",
    "# len(login_df['city'].unique()), len(login_df.index)\n",
    "# login_df['is_risk'].count()\n",
    "trade_df.shape, trade_df[trade_df['is_risk']==0].shape, trade_df[trade_df['is_risk']==1].shape\n"
   ]
  },
  {
   "cell_type": "code",
   "execution_count": 36,
   "metadata": {
    "collapsed": false
   },
   "outputs": [
    {
     "data": {
      "text/plain": [
       "(3643, 129076, 455)"
      ]
     },
     "execution_count": 36,
     "metadata": {},
     "output_type": "execute_result"
    }
   ],
   "source": [
    "trade_df_by_id = trade_df['is_risk'].groupby(trade_df['id'])\n",
    "\n",
    "id_risk    = trade_df[trade_df['is_risk']==1]['id']\n",
    "id_nonrisk = trade_df[trade_df['is_risk']==0]['id']\n",
    "checked_id = set(id_risk) & set(id_nonrisk)\n",
    "len(id_risk), len(id_nonrisk), len(checked_id)"
   ]
  },
  {
   "cell_type": "code",
   "execution_count": 34,
   "metadata": {
    "collapsed": false
   },
   "outputs": [
    {
     "name": "stdout",
     "output_type": "stream",
     "text": [
      "{1, 2, 3}\n"
     ]
    }
   ],
   "source": [
    "sss = set(np.array([1, 2, 3]))\n",
    "print(sss)"
   ]
  }
 ],
 "metadata": {
  "anaconda-cloud": {},
  "kernelspec": {
   "display_name": "Python [conda root]",
   "language": "python",
   "name": "conda-root-py"
  },
  "language_info": {
   "codemirror_mode": {
    "name": "ipython",
    "version": 3
   },
   "file_extension": ".py",
   "mimetype": "text/x-python",
   "name": "python",
   "nbconvert_exporter": "python",
   "pygments_lexer": "ipython3",
   "version": "3.5.2"
  }
 },
 "nbformat": 4,
 "nbformat_minor": 1
}
