{
 "cells": [
  {
   "cell_type": "code",
   "execution_count": 2,
   "metadata": {
    "collapsed": true
   },
   "outputs": [],
   "source": [
    "import numpy as np\n",
    "import pandas as pd\n",
    "import matplotlib.pyplot as plt\n",
    "%matplotlib inline"
   ]
  },
  {
   "cell_type": "markdown",
   "metadata": {},
   "source": [
    "思路：可以增加的features\n",
    "1. 是否同一ip地址多个帐号\n",
    "2. 登录的平均间隔时间、最短间隔时间、最大间隔时间\n",
    "3. 一天中的交易次数\n",
    "\n",
    "注意点：\n",
    "1. is_sec这个字段没有用，因为所有的值都是False"
   ]
  },
  {
   "cell_type": "code",
   "execution_count": 57,
   "metadata": {
    "collapsed": false
   },
   "outputs": [],
   "source": [
    "trade_df = pd.read_csv('./data/Risk_Detection_Qualification/t_trade.csv', index_col='rowkey', dtype={'id': np.str})\n",
    "dateparse = lambda x: pd.datetime.strptime(x, '%Y-%m-%d %H:%M:%S')\n",
    "login_df = pd.read_csv('./data/Risk_Detection_Qualification/t_login.csv', index_col='log_id', \n",
    "                       dtype={'id': np.str, 'timestamp': np.str},\n",
    "                       parse_dates=['time'], date_parser=dateparse)\n",
    "trade_test_df = pd.read_csv('./data/Risk_Detection_Qualification/t_trade_test.csv', index_col='rowkey', dtype={'id': np.str})\n",
    "login_test_df = pd.read_csv('./data/Risk_Detection_Qualification/t_login_test.csv', index_col='log_id', dtype={'id': np.str, 'timestamp': np.str})"
   ]
  },
  {
   "cell_type": "code",
   "execution_count": 66,
   "metadata": {
    "collapsed": false
   },
   "outputs": [
    {
     "data": {
      "text/plain": [
       "<matplotlib.axes._subplots.AxesSubplot at 0x2ac57080>"
      ]
     },
     "execution_count": 66,
     "metadata": {},
     "output_type": "execute_result"
    },
    {
     "data": {
      "image/png": "[encoded data removed]",
      "text/plain": [
       "<matplotlib.figure.Figure at 0x2b89f438>"
      ]
     },
     "metadata": {},
     "output_type": "display_data"
    }
   ],
   "source": [
    "# 得到一列不同的值\n",
    "# login_df['result'].unique()\n",
    "# login_df['id'].unique()\n",
    "# len(login_df['city'].unique()), len(login_df.index)\n",
    "# login_df['is_risk'].count()\n",
    "trade_df.shape, trade_df[trade_df['is_risk']==0].shape, trade_df[trade_df['is_risk']==1].shape\n",
    "login_df.count()\n",
    "#trade_df.is_risk.value_counts(normalize=True).plot(kind='bar', alpha=0.5)\n",
    "#login_df.is_sec.value_counts(normalize=True).plot(kind='bar', alpha=0.5)\n",
    "login_test_df.is_sec.value_counts(normalize=True).plot(kind='bar', alpha=0.5)\n",
    "#login_test_df.info()"
   ]
  },
  {
   "cell_type": "code",
   "execution_count": 25,
   "metadata": {
    "collapsed": false
   },
   "outputs": [
    {
     "data": {
      "text/plain": [
       "(3643, 129076, 455)"
      ]
     },
     "execution_count": 25,
     "metadata": {},
     "output_type": "execute_result"
    }
   ],
   "source": [
    "trade_df_by_id = trade_df['is_risk'].groupby(trade_df['id'])\n",
    "\n",
    "id_risk_trade   = trade_df[trade_df['is_risk']==1]['id']\n",
    "id_nonrisk_trade = trade_df[trade_df['is_risk']==0]['id']\n",
    "checked_id = set(id_risk) & set(id_nonrisk)\n",
    "len(id_risk), len(id_nonrisk), len(checked_id)"
   ]
  },
  {
   "cell_type": "code",
   "execution_count": 74,
   "metadata": {
    "collapsed": false
   },
   "outputs": [
    {
     "name": "stdout",
     "output_type": "stream",
     "text": [
      "        timelong  device  log_from   ip  city  result  timestamp  type  \\\n",
      "id                                                                       \n",
      "100002         9       9         9    9     9       9          9     9   \n",
      "100006        21      21        21   21    21      21         21    21   \n",
      "100019         4       4         4    4     4       4          4     4   \n",
      "100020        36      36        36   36    36      36         36    36   \n",
      "100024        11      11        11   11    11      11         11    11   \n",
      "100027         3       3         3    3     3       3          3     3   \n",
      "100039        25      25        25   25    25      25         25    25   \n",
      "100046        45      45        45   45    45      45         45    45   \n",
      "100058        18      18        18   18    18      18         18    18   \n",
      "100063        10      10        10   10    10      10         10    10   \n",
      "100068         9       9         9    9     9       9          9     9   \n",
      "100070         9       9         9    9     9       9          9     9   \n",
      "100077        23      23        23   23    23      23         23    23   \n",
      "100078         3       3         3    3     3       3          3     3   \n",
      "100087        51      51        51   51    51      51         51    51   \n",
      "10009          2       2         2    2     2       2          2     2   \n",
      "100093        81      81        81   81    81      81         81    81   \n",
      "100101         5       5         5    5     5       5          5     5   \n",
      "100108         5       5         5    5     5       5          5     5   \n",
      "100114        13      13        13   13    13      13         13    13   \n",
      "100115         9       9         9    9     9       9          9     9   \n",
      "100127         7       7         7    7     7       7          7     7   \n",
      "100138         3       3         3    3     3       3          3     3   \n",
      "100142        18      18        18   18    18      18         18    18   \n",
      "100154       103     103       103  103   103     103        103   103   \n",
      "100158         6       6         6    6     6       6          6     6   \n",
      "100169        89      89        89   89    89      89         89    89   \n",
      "100172         2       2         2    2     2       2          2     2   \n",
      "100176        17      17        17   17    17      17         17    17   \n",
      "100180         3       3         3    3     3       3          3     3   \n",
      "...          ...     ...       ...  ...   ...     ...        ...   ...   \n",
      "99823          2       2         2    2     2       2          2     2   \n",
      "99825         10      10        10   10    10      10         10    10   \n",
      "99828         56      56        56   56    56      56         56    56   \n",
      "9983           6       6         6    6     6       6          6     6   \n",
      "99832          8       8         8    8     8       8          8     8   \n",
      "9984          25      25        25   25    25      25         25    25   \n",
      "99840         78      78        78   78    78      78         78    78   \n",
      "99848          1       1         1    1     1       1          1     1   \n",
      "99853         12      12        12   12    12      12         12    12   \n",
      "99855         50      50        50   50    50      50         50    50   \n",
      "99856         22      22        22   22    22      22         22    22   \n",
      "99861          2       2         2    2     2       2          2     2   \n",
      "99871         11      11        11   11    11      11         11    11   \n",
      "99883          1       1         1    1     1       1          1     1   \n",
      "99899          8       8         8    8     8       8          8     8   \n",
      "9990           1       1         1    1     1       1          1     1   \n",
      "99901          7       7         7    7     7       7          7     7   \n",
      "99906          3       3         3    3     3       3          3     3   \n",
      "9991          15      15        15   15    15      15         15    15   \n",
      "99937          5       5         5    5     5       5          5     5   \n",
      "99938         17      17        17   17    17      17         17    17   \n",
      "99943          3       3         3    3     3       3          3     3   \n",
      "99944        125     125       125  125   125     125        125   125   \n",
      "99950         53      53        53   53    53      53         53    53   \n",
      "9996          16      16        16   16    16      16         16    16   \n",
      "99962          4       4         4    4     4       4          4     4   \n",
      "99976        117     117       117  117   117     117        117   117   \n",
      "99977         30      30        30   30    30      30         30    30   \n",
      "9998           6       6         6    6     6       6          6     6   \n",
      "99987          9       9         9    9     9       9          9     9   \n",
      "\n",
      "        is_scan  is_sec  time  \n",
      "id                             \n",
      "100002        9       9     9  \n",
      "100006       21      21    21  \n",
      "100019        4       4     4  \n",
      "100020       36      36    36  \n",
      "100024       11      11    11  \n",
      "100027        3       3     3  \n",
      "100039       25      25    25  \n",
      "100046       45      45    45  \n",
      "100058       18      18    18  \n",
      "100063       10      10    10  \n",
      "100068        9       9     9  \n",
      "100070        9       9     9  \n",
      "100077       23      23    23  \n",
      "100078        3       3     3  \n",
      "100087       51      51    51  \n",
      "10009         2       2     2  \n",
      "100093       81      81    81  \n",
      "100101        5       5     5  \n",
      "100108        5       5     5  \n",
      "100114       13      13    13  \n",
      "100115        9       9     9  \n",
      "100127        7       7     7  \n",
      "100138        3       3     3  \n",
      "100142       18      18    18  \n",
      "100154      103     103   103  \n",
      "100158        6       6     6  \n",
      "100169       89      89    89  \n",
      "100172        2       2     2  \n",
      "100176       17      17    17  \n",
      "100180        3       3     3  \n",
      "...         ...     ...   ...  \n",
      "99823         2       2     2  \n",
      "99825        10      10    10  \n",
      "99828        56      56    56  \n",
      "9983          6       6     6  \n",
      "99832         8       8     8  \n",
      "9984         25      25    25  \n",
      "99840        78      78    78  \n",
      "99848         1       1     1  \n",
      "99853        12      12    12  \n",
      "99855        50      50    50  \n",
      "99856        22      22    22  \n",
      "99861         2       2     2  \n",
      "99871        11      11    11  \n",
      "99883         1       1     1  \n",
      "99899         8       8     8  \n",
      "9990          1       1     1  \n",
      "99901         7       7     7  \n",
      "99906         3       3     3  \n",
      "9991         15      15    15  \n",
      "99937         5       5     5  \n",
      "99938        17      17    17  \n",
      "99943         3       3     3  \n",
      "99944       125     125   125  \n",
      "99950        53      53    53  \n",
      "9996         16      16    16  \n",
      "99962         4       4     4  \n",
      "99976       117     117   117  \n",
      "99977        30      30    30  \n",
      "9998          6       6     6  \n",
      "99987         9       9     9  \n",
      "\n",
      "[27155 rows x 11 columns]\n"
     ]
    }
   ],
   "source": [
    "login_df_by_id = login_df.groupby(login_df['id']).count()\n",
    "print(login_df_by_id)\n",
    "#ratio = len(trade_df[trade_df['is_risk']==1])/len(trade_df)\n",
    "#len(trade_df[trade_df['is_risk']==1]), len(trade_df)\n",
    "# login_df['id']"
   ]
  },
  {
   "cell_type": "code",
   "execution_count": 76,
   "metadata": {
    "collapsed": false
   },
   "outputs": [
    {
     "data": {
      "text/plain": [
       "True"
      ]
     },
     "execution_count": 76,
     "metadata": {},
     "output_type": "execute_result"
    }
   ],
   "source": [
    "login_id_set = set(login_df['id'])\n",
    "login_test_id_set = set(login_test_df['id'])\n",
    "trade_id_set = set(trade_df['id'])\n",
    "trade_id_set = set(trade_df['id'])\n",
    "(login_id_set | login_test_id_set) > trade_id_set\n",
    "\n",
    "#crossed_id_set = trade_id_set & login_id_set\n",
    "#len(crossed_id_set), len(login_id_set), len(trade_id_set)\n",
    "# '100190' in login_df['id']\n",
    "#len(trade_id_set) < len(login_id_set)"
   ]
  },
  {
   "cell_type": "code",
   "execution_count": null,
   "metadata": {
    "collapsed": true
   },
   "outputs": [],
   "source": []
  },
  {
   "cell_type": "code",
   "execution_count": null,
   "metadata": {
    "collapsed": true
   },
   "outputs": [],
   "source": []
  },
  {
   "cell_type": "code",
   "execution_count": null,
   "metadata": {
    "collapsed": true
   },
   "outputs": [],
   "source": []
  }
 ],
 "metadata": {
  "anaconda-cloud": {},
  "kernelspec": {
   "display_name": "Python [conda root]",
   "language": "python",
   "name": "conda-root-py"
  },
  "language_info": {
   "codemirror_mode": {
    "name": "ipython",
    "version": 3
   },
   "file_extension": ".py",
   "mimetype": "text/x-python",
   "name": "python",
   "nbconvert_exporter": "python",
   "pygments_lexer": "ipython3",
   "version": "3.5.2"
  }
 },
 "nbformat": 4,
 "nbformat_minor": 1
}
