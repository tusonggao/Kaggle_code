{
  "cells": [
    {
      "metadata": {
        "_uuid": "ea7418fa85019a3afc334946ef38ded92053a360",
        "_cell_guid": "72a9d4df-3a4e-4abb-9212-3059ecf0dc53"
      },
      "cell_type": "markdown",
      "source": "# TensorFlow deep NN\n#### A high-level tutorial into Deep Learning using MNIST data and TensorFlow library.\nby [@kakauandme](https://twitter.com/KaKaUandME) and [@thekoshkina](https://twitter.com/thekoshkina)\n\nAccuracy: 0.99\n\n**Prerequisites:** fundamental coding skills, a bit of linear algebra, especially matrix operations and perhaps understanding how images are stored in computer memory. To start with machine learning, we suggest [coursera course](https://www.coursera.org/learn/machine-learning) by Andrew Ng.\n\n\nNote: \n\n*Feel free to fork and adjust* CONSTANTS *to tweak network behaviour and explore how it changes algorithm performance and accuracy. Besides **TensorFlow graph** section can also be modified for learning purposes.*\n\n*It is highly recommended printing every variable that isn’t 100% clear for you. Also, [tensorboard](https://www.tensorflow.org/versions/master/how_tos/summaries_and_tensorboard/index.html) can be used on a local environment for visualisation and debugging.*\n## Libraries and settings"
    },
    {
      "metadata": {
        "_uuid": "b9b4f54e2e4934f9d596d17fa98be0e895203e8d",
        "_cell_guid": "9965f763-df45-4e91-9eb2-8982c10350c4",
        "trusted": true
      },
      "cell_type": "code",
      "source": "import numpy as np\nimport pandas as pd\n\n%matplotlib inline\nimport matplotlib.pyplot as plt\nimport matplotlib.cm as cm\n\nimport tensorflow as tf\n\n# settings\nLEARNING_RATE = 1e-4\n# set to 20000 on local environment to get 0.99 accuracy\nTRAINING_ITERATIONS = 2500        \n    \nDROPOUT = 0.5\nBATCH_SIZE = 50\n\n# set to 0 to train on all available data\nVALIDATION_SIZE = 2000\n\n# image number to output\nIMAGE_TO_DISPLAY = 10",
      "execution_count": 3,
      "outputs": []
    },
    {
      "metadata": {
        "_uuid": "1aa7cb7d8b3fa75d6c3e0454d7c6459ad18c0626",
        "_cell_guid": "2c6ad5f4-431c-4048-ab5c-dafe7d7c39d8"
      },
      "cell_type": "markdown",
      "source": "## Data preparation\nTo start, we read provided data. The *train.csv* file contains 42000 rows and 785 columns. Each row represents an image of a handwritten digit and a label with the value of this digit."
    },
    {
      "metadata": {
        "_uuid": "e45f45b1ffa0bb9667027c9351d5106c317b8339",
        "_cell_guid": "dedb46d8-92c9-48f7-bee0-eb69a9af9f22",
        "trusted": true
      },
      "cell_type": "code",
      "source": "# read training data from CSV file \ndata = pd.read_csv('../input/train.csv')\n\nprint('data({0[0]},{0[1]})'.format(data.shape))\nprint (data.head())",
      "execution_count": 4,
      "outputs": [
        {
          "output_type": "stream",
          "text": "data(42000,785)\n   label  pixel0  pixel1  pixel2  pixel3  pixel4  pixel5  pixel6  pixel7  \\\n0      1       0       0       0       0       0       0       0       0   \n1      0       0       0       0       0       0       0       0       0   \n2      1       0       0       0       0       0       0       0       0   \n3      4       0       0       0       0       0       0       0       0   \n4      0       0       0       0       0       0       0       0       0   \n\n   pixel8    ...     pixel774  pixel775  pixel776  pixel777  pixel778  \\\n0       0    ...            0         0         0         0         0   \n1       0    ...            0         0         0         0         0   \n2       0    ...            0         0         0         0         0   \n3       0    ...            0         0         0         0         0   \n4       0    ...            0         0         0         0         0   \n\n   pixel779  pixel780  pixel781  pixel782  pixel783  \n0         0         0         0         0         0  \n1         0         0         0         0         0  \n2         0         0         0         0         0  \n3         0         0         0         0         0  \n4         0         0         0         0         0  \n\n[5 rows x 785 columns]\n",
          "name": "stdout"
        }
      ]
    },
    {
      "metadata": {
        "_uuid": "75da6f951ebf0653155f7f184eda46a5447c2a9e",
        "_cell_guid": "18421395-246e-4b69-b960-53bfb9a26b06"
      },
      "cell_type": "markdown",
      "source": "Every image is a \"stretched\" array of pixel values."
    },
    {
      "metadata": {
        "_uuid": "02ccdfcbec6f5b875ec84947ac4ae123210fa027",
        "_cell_guid": "f913e417-35f3-44b7-94ba-96f8029446ad",
        "trusted": true
      },
      "cell_type": "code",
      "source": "images = data.iloc[:,1:].values\nimages = images.astype(np.float)\n\n# convert from [0:255] => [0.0:1.0]\nimages = np.multiply(images, 1.0 / 255.0)\n\nprint('images({0[0]},{0[1]})'.format(images.shape))",
      "execution_count": 5,
      "outputs": [
        {
          "output_type": "stream",
          "text": "images(42000,784)\n",
          "name": "stdout"
        }
      ]
    },
    {
      "metadata": {
        "_uuid": "933bc4e744ed06538614a2327401ccc1a3263a72",
        "_cell_guid": "8a80a090-fba6-4e7d-878d-5d6431a4fc55"
      },
      "cell_type": "markdown",
      "source": "In this case it's 784 pixels => 28 * 28px"
    },
    {
      "metadata": {
        "_uuid": "e65b6af737e09a1b161c2d3315be8677605980b0",
        "_cell_guid": "3ff9ed2a-7d26-493a-9706-79e66f49b093",
        "trusted": true
      },
      "cell_type": "code",
      "source": "image_size = images.shape[1]\nprint ('image_size => {0}'.format(image_size))\n\n# in this case all images are square\nimage_width = image_height = np.ceil(np.sqrt(image_size)).astype(np.uint8)\n\nprint ('image_width => {0}\\nimage_height => {1}'.format(image_width,image_height))",
      "execution_count": 6,
      "outputs": [
        {
          "output_type": "stream",
          "text": "image_size => 784\nimage_width => 28\nimage_height => 28\n",
          "name": "stdout"
        }
      ]
    },
    {
      "metadata": {
        "_uuid": "ad3aa38b3e667bfedb736d596bb05d8d70e021e8",
        "_cell_guid": "a3ceb511-1809-4eef-b0da-01eb0db6595b"
      },
      "cell_type": "markdown",
      "source": "To output one of the images, we reshape this long string of pixels into a 2-dimensional array, which is basically a grayscale image."
    },
    {
      "metadata": {
        "_uuid": "a66be92f880b4a19a33030aad32572ed82cbe9e7",
        "_cell_guid": "80f21858-ce3a-4a30-85d3-2951a3e245e6",
        "trusted": true
      },
      "cell_type": "code",
      "source": "# display image\ndef display(img):\n    \n    # (784) => (28,28)\n    one_image = img.reshape(image_width,image_height)\n    \n    plt.axis('off')\n    plt.imshow(one_image, cmap=cm.binary)\n\n# output image     \ndisplay(images[IMAGE_TO_DISPLAY])",
      "execution_count": 7,
      "outputs": [
        {
          "output_type": "display_data",
          "data": {
            "text/plain": "<matplotlib.figure.Figure at 0x7f1463c66828>",
            "image/png": "[encoded data removed]"
          },
          "metadata": {}
        }
      ]
    },
    {
      "metadata": {
        "_uuid": "d5058a73760d25fc5f356356a08bcf3e3b6ef905",
        "_cell_guid": "fb71f227-d590-48b8-966e-fa25a2016e5b"
      },
      "cell_type": "markdown",
      "source": "The corresponding labels are numbers between 0 and 9, describing which digit a given image is of."
    },
    {
      "metadata": {
        "_uuid": "05f865a994eb6422f4cfd92b32b738599592c07c",
        "_cell_guid": "5c3db865-f253-45d1-a7e1-002a3dff58b0",
        "trusted": false
      },
      "cell_type": "code",
      "source": "labels_flat = data[[0]].values.ravel()\n\nprint('labels_flat({0})'.format(len(labels_flat)))\nprint ('labels_flat[{0}] => {1}'.format(IMAGE_TO_DISPLAY,labels_flat[IMAGE_TO_DISPLAY]))",
      "execution_count": null,
      "outputs": []
    },
    {
      "metadata": {
        "_uuid": "589d7e178e94b0b3bfef8e3db32d1ca3e7934aa0",
        "_cell_guid": "e8bbd3a8-84f8-4ef9-b528-5ef591cd6417"
      },
      "cell_type": "markdown",
      "source": "In this case, there are ten different digits/labels/classes."
    },
    {
      "metadata": {
        "_uuid": "d06edf925def46b5e01f92d428628dfcd778ceab",
        "_cell_guid": "2ebc9399-e420-41a8-9ebb-98f46aab281c",
        "trusted": false
      },
      "cell_type": "code",
      "source": "labels_count = np.unique(labels_flat).shape[0]\n\nprint('labels_count => {0}'.format(labels_count))",
      "execution_count": null,
      "outputs": []
    },
    {
      "metadata": {
        "_uuid": "a5e466590e1a9143f0be5bba99a4cd942134c2f6",
        "_cell_guid": "e4663903-770d-48f8-9b62-53175610d94f"
      },
      "cell_type": "markdown",
      "source": "For most classification problems \"one-hot vectors\" are used. A one-hot vector is a vector that contains a single element equal to 1 and the rest of the elements equal to 0. In this case, the *nth* digit is represented as a zero vector with 1 in the *nth* position."
    },
    {
      "metadata": {
        "_uuid": "b3a1086afaec416f7282c9457262b60ba569804f",
        "_cell_guid": "3936804e-8b37-4c73-baaa-d506f91a322e",
        "trusted": false
      },
      "cell_type": "code",
      "source": "# convert class labels from scalars to one-hot vectors\n# 0 => [1 0 0 0 0 0 0 0 0 0]\n# 1 => [0 1 0 0 0 0 0 0 0 0]\n# ...\n# 9 => [0 0 0 0 0 0 0 0 0 1]\ndef dense_to_one_hot(labels_dense, num_classes):\n    num_labels = labels_dense.shape[0]\n    index_offset = np.arange(num_labels) * num_classes\n    labels_one_hot = np.zeros((num_labels, num_classes))\n    labels_one_hot.flat[index_offset + labels_dense.ravel()] = 1\n    return labels_one_hot\n\nlabels = dense_to_one_hot(labels_flat, labels_count)\nlabels = labels.astype(np.uint8)\n\nprint('labels({0[0]},{0[1]})'.format(labels.shape))\nprint ('labels[{0}] => {1}'.format(IMAGE_TO_DISPLAY,labels[IMAGE_TO_DISPLAY]))",
      "execution_count": null,
      "outputs": []
    },
    {
      "metadata": {
        "_uuid": "8591171ccbe4328ee85740954a786bb04c3d07ec",
        "_cell_guid": "2c971354-3e9c-4311-874d-449fc1bc5746"
      },
      "cell_type": "markdown",
      "source": "Lastly we set aside data for validation. It's essential in machine learning to have a separate dataset which doesn't take part in the training and is used to make sure that what we've learned can actually be generalised."
    },
    {
      "metadata": {
        "_uuid": "462ceb3d98b72f37b129b7f5092e8247af1ee3b6",
        "_cell_guid": "4a24a19d-1782-40fe-8242-e8afc288661c",
        "trusted": false
      },
      "cell_type": "code",
      "source": "# split data into training & validation\nvalidation_images = images[:VALIDATION_SIZE]\nvalidation_labels = labels[:VALIDATION_SIZE]\n\ntrain_images = images[VALIDATION_SIZE:]\ntrain_labels = labels[VALIDATION_SIZE:]\n\n\nprint('train_images({0[0]},{0[1]})'.format(train_images.shape))\nprint('validation_images({0[0]},{0[1]})'.format(validation_images.shape))",
      "execution_count": null,
      "outputs": []
    },
    {
      "metadata": {
        "_uuid": "44a2cfaa1e075d49171b075ffb2173877e2e04ae",
        "_cell_guid": "567bd95a-4d75-43cc-b31e-d17a5397ba31"
      },
      "cell_type": "markdown",
      "source": "*Data is ready. The neural network structure is next.*\n## TensorFlow graph\nTensorFlow does its heavy lifting outside Python. Therefore, instead of running every single operation independently, TensorFlow allows users to build a whole graph of interacting operations and then runs the workflow in a separate process at once.\n#### Helper functions\nFor this NN model, a lot of weights and biases are created. Generally, weights should be initialised with a small amount of noise for symmetry breaking, and to prevent 0 gradients. \n\nSince we are using [ReLU](https://en.wikipedia.org/wiki/Rectifier_(neural_networks) neurones (ones that contain rectifier function *f(x)=max(0,x)*), it is also good practice to initialise them with a slightly positive initial bias to avoid \"dead neurones\"."
    },
    {
      "metadata": {
        "_uuid": "6112f35691097cdb05050139a321d79fcfe25f71",
        "_cell_guid": "b5e7bb86-7eb6-4219-a3d9-e9b350537da2",
        "trusted": false
      },
      "cell_type": "code",
      "source": "# weight initialization\ndef weight_variable(shape):\n    initial = tf.truncated_normal(shape, stddev=0.1)\n    return tf.Variable(initial)\n\ndef bias_variable(shape):\n    initial = tf.constant(0.1, shape=shape)\n    return tf.Variable(initial)",
      "execution_count": null,
      "outputs": []
    },
    {
      "metadata": {
        "_uuid": "593f4352e7d1152417648ceb81fba702cd1c0b0c",
        "_cell_guid": "97c4a9a3-156b-4af0-a2e5-70f2f65a878c"
      },
      "cell_type": "markdown",
      "source": "For this problem we use zero padded [convolutions](https://en.wikipedia.org/wiki/Convolutional_neural_network#Convolutional_layer) so that the output is the same size as the input. Stride/step in this case is equal to 1.\n\nIn general, convolution layer is used to get the features of the data.  In the case of digit recognition - a shape of each digit.  It uses learnable kernels/filters each of which corresponds to one particular shape pattern. The number of the filter can differ for other problems."
    },
    {
      "metadata": {
        "_uuid": "97a37d38c133b10c018708c034a9d2e0f0521125",
        "_cell_guid": "7167056c-bf01-41db-9800-e54da4f401c8",
        "trusted": false
      },
      "cell_type": "code",
      "source": "# convolution\ndef conv2d(x, W):\n    return tf.nn.conv2d(x, W, strides=[1, 1, 1, 1], padding='SAME')",
      "execution_count": null,
      "outputs": []
    },
    {
      "metadata": {
        "_uuid": "01e4aaa3b6f52c3d0bd983346d6cf3f71b20e098",
        "_cell_guid": "cf029d8f-34bf-4bad-9136-6a468e20ef1a"
      },
      "cell_type": "markdown",
      "source": "[Pooling](https://en.wikipedia.org/wiki/Convolutional_neural_network#Pooling_layer) is plain max pooling over 2x2 blocks.\n\nPooling is used for downsampling of the data. 2x2 max-pooling splits the image into square 2-pixel blocks and only keeps maximum value for each of those blocks. "
    },
    {
      "metadata": {
        "_uuid": "ffc9a4a9e2037076ff23d0858e22e01cf892a8dc",
        "_cell_guid": "7be41b8e-466a-413c-b9a8-32ea3069f697",
        "trusted": false
      },
      "cell_type": "code",
      "source": "# pooling\n# [[0,3],\n#  [4,2]] => 4\n\n# [[0,1],\n#  [1,1]] => 1\n\ndef max_pool_2x2(x):\n    return tf.nn.max_pool(x, ksize=[1, 2, 2, 1], strides=[1, 2, 2, 1], padding='SAME')",
      "execution_count": null,
      "outputs": []
    },
    {
      "metadata": {
        "_uuid": "1abbfb3d6ee2c4219dfa3f2b0e78132514d9410c",
        "_cell_guid": "a1f38924-8b51-47b0-aaed-a89a96d692ee"
      },
      "cell_type": "markdown",
      "source": "*We'll get back to convolutions and pooling in more detail below.*\n\nThe good thing about neural networks that any NN can be used as a layer in a large multilayer NN meaning that output of one can be used as input for another. This sequential approach can create very sophisticated NN with multiple layers. They are also called Deep Neural Networks.\n\nIn this case, we use two convolution layers with pooling in between them, then densely connected layer followed by dropout and lastly readout layer."
    },
    {
      "metadata": {
        "_uuid": "78bae692dd658750c180561601f91b66dd4ced23",
        "_cell_guid": "ddf5036b-da99-40e3-9ae5-eca166418f66",
        "trusted": false
      },
      "cell_type": "code",
      "source": "# input & output of NN\n\n# images\nx = tf.placeholder('float', shape=[None, image_size])\n# labels\ny_ = tf.placeholder('float', shape=[None, labels_count])",
      "execution_count": null,
      "outputs": []
    },
    {
      "metadata": {
        "_uuid": "51229b8e12c5868faacbc905206d2407b765c011",
        "_cell_guid": "5dd97dd6-5f11-4b5c-b374-66a0bb952a23"
      },
      "cell_type": "markdown",
      "source": "The first layer is a convolution, followed by max pooling. The convolution computes 32 features for each 5x5 patch. Its weight tensor has a shape of [5, 5, 1, 32]. The first two dimensions are the patch size, the next is the number of input channels (1 means that images are grayscale), and the last is the number of output channels. There is also a bias vector with a component for each output channel.\n\nTo apply the layer, we reshape the input data to a 4d tensor, with the first dimension corresponding to the number of images, second and third - to image width and height, and the final dimension - to the number of colour channels.\n\nAfter the convolution, pooling reduces the size of the output from 28x28 to 14x14."
    },
    {
      "metadata": {
        "_uuid": "a53cc17760d6f193f94a4e2931867faeecbfbc10",
        "_cell_guid": "97d052cc-6500-4421-a32c-6a7774636f8b",
        "trusted": false
      },
      "cell_type": "code",
      "source": "# first convolutional layer\nW_conv1 = weight_variable([5, 5, 1, 32])\nb_conv1 = bias_variable([32])\n\n# (40000,784) => (40000,28,28,1)\nimage = tf.reshape(x, [-1,image_width , image_height,1])\n#print (image.get_shape()) # =>(40000,28,28,1)\n\n\nh_conv1 = tf.nn.relu(conv2d(image, W_conv1) + b_conv1)\n#print (h_conv1.get_shape()) # => (40000, 28, 28, 32)\nh_pool1 = max_pool_2x2(h_conv1)\n#print (h_pool1.get_shape()) # => (40000, 14, 14, 32)\n\n\n# Prepare for visualization\n# display 32 fetures in 4 by 8 grid\nlayer1 = tf.reshape(h_conv1, (-1, image_height, image_width, 4 ,8))  \n\n# reorder so the channels are in the first dimension, x and y follow.\nlayer1 = tf.transpose(layer1, (0, 3, 1, 4,2))\n\nlayer1 = tf.reshape(layer1, (-1, image_height*4, image_width*8)) ",
      "execution_count": null,
      "outputs": []
    },
    {
      "metadata": {
        "_uuid": "2becc00a28027f5b90a6c05784e689e5e46a15ea",
        "_cell_guid": "4dd5ba55-c68a-42ea-abec-8264316209a9"
      },
      "cell_type": "markdown",
      "source": "The second layer has 64 features for each 5x5 patch. Its weight tensor has a shape of [5, 5, 32, 64]. The first two dimensions are the patch size, the next is the number of input channels (32 channels correspond to 32 featured that we got from previous convolutional layer), and the last is the number of output channels. There is also a bias vector with a component for each output channel.\n\nBecause the image is down-sampled by pooling to 14x14 size second convolutional layer picks up more general characteristics of the images. Filters cover more space of the picture. Therefore, it is adjusted for more generic features while the first layer finds smaller details."
    },
    {
      "metadata": {
        "_uuid": "a0f4a75e02491a97bd3c80603085ac357c428aba",
        "_cell_guid": "3db9f662-8238-4731-8b76-605610eac909",
        "trusted": false
      },
      "cell_type": "code",
      "source": "# second convolutional layer\nW_conv2 = weight_variable([5, 5, 32, 64])\nb_conv2 = bias_variable([64])\n\nh_conv2 = tf.nn.relu(conv2d(h_pool1, W_conv2) + b_conv2)\n#print (h_conv2.get_shape()) # => (40000, 14,14, 64)\nh_pool2 = max_pool_2x2(h_conv2)\n#print (h_pool2.get_shape()) # => (40000, 7, 7, 64)\n\n# Prepare for visualization\n# display 64 fetures in 4 by 16 grid\nlayer2 = tf.reshape(h_conv2, (-1, 14, 14, 4 ,16))  \n\n# reorder so the channels are in the first dimension, x and y follow.\nlayer2 = tf.transpose(layer2, (0, 3, 1, 4,2))\n\nlayer2 = tf.reshape(layer2, (-1, 14*4, 14*16)) ",
      "execution_count": null,
      "outputs": []
    },
    {
      "metadata": {
        "_uuid": "5e00a989d0eac7b115587dbf7b8a44c17216876c",
        "_cell_guid": "db40c24f-f4cd-4a48-b412-60ea57bb2b80"
      },
      "cell_type": "markdown",
      "source": "Now that the image size is reduced to 7x7, we add a [fully-connected layer](https://en.wikipedia.org/wiki/Convolutional_neural_network#Fully_Connected_layer) with 1024 neurones to allow processing on the entire image (each of the neurons of the fully connected layer is connected to all the activations/outpus of the previous layer)"
    },
    {
      "metadata": {
        "_uuid": "f911ab7d41156cd9b481c8f2b1aa5f7d7adb46ab",
        "_cell_guid": "813ef6bd-474b-4c74-b538-0350ead0e261",
        "trusted": false
      },
      "cell_type": "code",
      "source": "# densely connected layer\nW_fc1 = weight_variable([7 * 7 * 64, 1024])\nb_fc1 = bias_variable([1024])\n\n# (40000, 7, 7, 64) => (40000, 3136)\nh_pool2_flat = tf.reshape(h_pool2, [-1, 7*7*64])\n\nh_fc1 = tf.nn.relu(tf.matmul(h_pool2_flat, W_fc1) + b_fc1)\n#print (h_fc1.get_shape()) # => (40000, 1024)",
      "execution_count": null,
      "outputs": []
    },
    {
      "metadata": {
        "_uuid": "d5d20102d947efe21cd362609596833cb57d0c81",
        "_cell_guid": "fe3f17bc-a03b-4f5d-8fc7-5e443f48db1b"
      },
      "cell_type": "markdown",
      "source": "To prevent overfitting, we  apply [dropout](https://en.wikipedia.org/wiki/Convolutional_neural_network#Dropout) before the readout layer.\n\nDropout removes some nodes from the network at each training stage. Each of the nodes is either kept in the network with probability *keep_prob* or dropped with probability *1 - keep_prob*. After the training stage is over the nodes are returned to the NN with their original weights."
    },
    {
      "metadata": {
        "_uuid": "95cbe0fff3d308b9e3910f370780b2e076940c8c",
        "_cell_guid": "7f0598e9-a5ab-46bb-932a-bd429fe86590",
        "trusted": false
      },
      "cell_type": "code",
      "source": "# dropout\nkeep_prob = tf.placeholder('float')\nh_fc1_drop = tf.nn.dropout(h_fc1, keep_prob)",
      "execution_count": null,
      "outputs": []
    },
    {
      "metadata": {
        "_uuid": "ae3a2b60323e51f83926400e1d721e6a25452cf8",
        "_cell_guid": "b7fbed88-91b6-4c21-8a61-52455232c3bf"
      },
      "cell_type": "markdown",
      "source": "Finally, we add a softmax layer, the same one if we use just a  simple [softmax regression](https://en.wikipedia.org/wiki/Softmax_function)."
    },
    {
      "metadata": {
        "_uuid": "4a30db437e035fbdbc4d45f17f7a17ac62ca7feb",
        "_cell_guid": "f9137b41-d797-4dcf-bf73-a09e3483b47d",
        "trusted": false
      },
      "cell_type": "code",
      "source": "# readout layer for deep net\nW_fc2 = weight_variable([1024, labels_count])\nb_fc2 = bias_variable([labels_count])\n\ny = tf.nn.softmax(tf.matmul(h_fc1_drop, W_fc2) + b_fc2)\n\n#print (y.get_shape()) # => (40000, 10)",
      "execution_count": null,
      "outputs": []
    },
    {
      "metadata": {
        "_uuid": "57fa418c3101cefac955e6a9a431ccc883d4b649",
        "_cell_guid": "90fb4ee2-c020-4774-b77f-580bef6e7ecf"
      },
      "cell_type": "markdown",
      "source": "To evaluate network performance we use [cross-entropy](https://en.wikipedia.org/wiki/Cross_entropy) and to minimise it [ADAM optimiser](http://arxiv.org/pdf/1412.6980v8.pdf) is used. \n\nADAM optimiser is a gradient based optimization algorithm, based on adaptive estimates, it's more sophisticated than steepest gradient descent and is well suited for problems with large data or many parameters."
    },
    {
      "metadata": {
        "_uuid": "97114b34e8c5cc6ec8ba082899f85eb56534e7a6",
        "_cell_guid": "74465815-796b-48f0-adc1-f78be615ce6a",
        "trusted": false
      },
      "cell_type": "code",
      "source": "# cost function\ncross_entropy = -tf.reduce_sum(y_*tf.log(y))\n\n\n# optimisation function\ntrain_step = tf.train.AdamOptimizer(LEARNING_RATE).minimize(cross_entropy)\n\n# evaluation\ncorrect_prediction = tf.equal(tf.argmax(y,1), tf.argmax(y_,1))\n\naccuracy = tf.reduce_mean(tf.cast(correct_prediction, 'float'))",
      "execution_count": null,
      "outputs": []
    },
    {
      "metadata": {
        "_uuid": "73c1624da98787caf1bdd6fd15c12420a69b1e1f",
        "_cell_guid": "26a0ecd9-73aa-4e98-8f4a-3acafefafbb5"
      },
      "cell_type": "markdown",
      "source": "To predict values from test data, highest probability is picked from \"one-hot vector\" indicating that chances of  an image being one of the digits are highest."
    },
    {
      "metadata": {
        "_uuid": "7d1e821b60eac031d1c29ca2a580bc43ae6c4f7e",
        "_cell_guid": "94888ea7-b0ca-4628-96bc-b5ada4390381",
        "trusted": false
      },
      "cell_type": "code",
      "source": "# prediction function\n#[0.1, 0.9, 0.2, 0.1, 0.1 0.3, 0.5, 0.1, 0.2, 0.3] => 1\npredict = tf.argmax(y,1)",
      "execution_count": null,
      "outputs": []
    },
    {
      "metadata": {
        "_uuid": "baf47737682704e02a2f90a6a4e248145b70cce4",
        "_cell_guid": "4a2d5dcf-82c7-49fb-ac5e-00943628acf8"
      },
      "cell_type": "markdown",
      "source": "*Finally neural network structure is defined and TensorFlow graph is ready for training.*\n## Train, validate and predict\n#### Helper functions\n\nIdeally, we should use all data for every step of the training, but that's expensive. So, instead, we use small \"batches\" of random data. \n\nThis method is called [stochastic training](https://en.wikipedia.org/wiki/Stochastic_gradient_descent). It is cheaper, faster and gives much of the same result."
    },
    {
      "metadata": {
        "_uuid": "93ab91bfae3ee7c281836756b498951a86689305",
        "_cell_guid": "999f5a58-2296-43e4-8e11-2fa7cf2419d0",
        "trusted": false
      },
      "cell_type": "code",
      "source": "epochs_completed = 0\nindex_in_epoch = 0\nnum_examples = train_images.shape[0]\n\n# serve data by batches\ndef next_batch(batch_size):\n    \n    global train_images\n    global train_labels\n    global index_in_epoch\n    global epochs_completed\n    \n    start = index_in_epoch\n    index_in_epoch += batch_size\n    \n    # when all trainig data have been already used, it is reorder randomly    \n    if index_in_epoch > num_examples:\n        # finished epoch\n        epochs_completed += 1\n        # shuffle the data\n        perm = np.arange(num_examples)\n        np.random.shuffle(perm)\n        train_images = train_images[perm]\n        train_labels = train_labels[perm]\n        # start next epoch\n        start = 0\n        index_in_epoch = batch_size\n        assert batch_size <= num_examples\n    end = index_in_epoch\n    return train_images[start:end], train_labels[start:end]",
      "execution_count": null,
      "outputs": []
    },
    {
      "metadata": {
        "_uuid": "a8d6851c25261cc6c4dd5b334d8c841adb187cb0",
        "_cell_guid": "02aed8d8-ad04-4a97-980f-bf38e4c067af"
      },
      "cell_type": "markdown",
      "source": "Now when all operations for every variable are defined in TensorFlow graph all computations will be performed outside Python environment."
    },
    {
      "metadata": {
        "_uuid": "2523308b80758871c17843ea20eb3cae67a6cdab",
        "_cell_guid": "63a883ca-81eb-494a-b606-71e33a7bc31b",
        "trusted": false
      },
      "cell_type": "code",
      "source": "# start TensorFlow session\ninit = tf.initialize_all_variables()\nsess = tf.InteractiveSession()\n\nsess.run(init)",
      "execution_count": null,
      "outputs": []
    },
    {
      "metadata": {
        "_uuid": "744d2dbed0f7d1610e8d86033a7f9cdb0acde4f4",
        "_cell_guid": "02a4d039-1e6d-49cc-91a6-99b246c72a62"
      },
      "cell_type": "markdown",
      "source": "Each step of the loop, we get a \"batch\" of data points from the training set and feed it to the graph to replace the placeholders.  In this case, it's:  *x, y* and *dropout.*\n\nAlso, once in a while, we check training accuracy on an upcoming \"batch\".\n\nOn the local environment, we recommend [saving training progress](https://www.tensorflow.org/versions/master/api_docs/python/state_ops.html#Saver), so it can be recovered for further training, debugging or evaluation."
    },
    {
      "metadata": {
        "_uuid": "f700965c0919b5d1f64660e81dc253e9ea326fdd",
        "_cell_guid": "e940d938-9b74-437a-92e0-43a54c47d13b",
        "trusted": false
      },
      "cell_type": "code",
      "source": "# visualisation variables\ntrain_accuracies = []\nvalidation_accuracies = []\nx_range = []\n\ndisplay_step=1\n\nfor i in range(TRAINING_ITERATIONS):\n\n    #get new batch\n    batch_xs, batch_ys = next_batch(BATCH_SIZE)        \n\n    # check progress on every 1st,2nd,...,10th,20th,...,100th... step\n    if i%display_step == 0 or (i+1) == TRAINING_ITERATIONS:\n        \n        train_accuracy = accuracy.eval(feed_dict={x:batch_xs, \n                                                  y_: batch_ys, \n                                                  keep_prob: 1.0})       \n        if(VALIDATION_SIZE):\n            validation_accuracy = accuracy.eval(feed_dict={ x: validation_images[0:BATCH_SIZE], \n                                                            y_: validation_labels[0:BATCH_SIZE], \n                                                            keep_prob: 1.0})                                  \n            print('training_accuracy / validation_accuracy => %.2f / %.2f for step %d'%(train_accuracy, validation_accuracy, i))\n            \n            validation_accuracies.append(validation_accuracy)\n            \n        else:\n             print('training_accuracy => %.4f for step %d'%(train_accuracy, i))\n        train_accuracies.append(train_accuracy)\n        x_range.append(i)\n        \n        # increase display_step\n        if i%(display_step*10) == 0 and i:\n            display_step *= 10\n    # train on batch\n    sess.run(train_step, feed_dict={x: batch_xs, y_: batch_ys, keep_prob: DROPOUT})",
      "execution_count": null,
      "outputs": []
    },
    {
      "metadata": {
        "_uuid": "85d1f36ff6fbce6ae2f298f509227d0c07d947fd",
        "_cell_guid": "3335ec81-db8c-437a-a246-30567da20fb6"
      },
      "cell_type": "markdown",
      "source": "After training is done, it's good to check accuracy on data that wasn't used in training."
    },
    {
      "metadata": {
        "_uuid": "6644778e3e8e391045087b9d4fd6867f83e39985",
        "_cell_guid": "d54d80ca-aa83-4bb1-b47f-1ec1df3358c0",
        "trusted": false
      },
      "cell_type": "code",
      "source": "# check final accuracy on validation set  \nif(VALIDATION_SIZE):\n    validation_accuracy = accuracy.eval(feed_dict={x: validation_images, \n                                                   y_: validation_labels, \n                                                   keep_prob: 1.0})\n    print('validation_accuracy => %.4f'%validation_accuracy)\n    plt.plot(x_range, train_accuracies,'-b', label='Training')\n    plt.plot(x_range, validation_accuracies,'-g', label='Validation')\n    plt.legend(loc='lower right', frameon=False)\n    plt.ylim(ymax = 1.1, ymin = 0.7)\n    plt.ylabel('accuracy')\n    plt.xlabel('step')\n    plt.show()",
      "execution_count": null,
      "outputs": []
    },
    {
      "metadata": {
        "_uuid": "59e700a8432854036a78050a06b7f191a5298660",
        "_cell_guid": "8db2f1ca-d657-4497-b984-eefd3fa38f39"
      },
      "cell_type": "markdown",
      "source": "When, we're happy with the outcome, we read test data from *test.csv* and predict labels for provided images.\n\nTest data contains only images and labels are missing. Otherwise, the structure is similar to training data.\n\nPredicted labels are stored into CSV file for future submission."
    },
    {
      "metadata": {
        "_uuid": "83f7a587c41d5423e5990586b387b0cb2c84bfaa",
        "_cell_guid": "fd2bc4f1-79a6-4acc-92ac-42688d2c6ff2",
        "trusted": false
      },
      "cell_type": "code",
      "source": "# read test data from CSV file \ntest_images = pd.read_csv('../input/test.csv').values\ntest_images = test_images.astype(np.float)\n\n# convert from [0:255] => [0.0:1.0]\ntest_images = np.multiply(test_images, 1.0 / 255.0)\n\nprint('test_images({0[0]},{0[1]})'.format(test_images.shape))\n\n\n# predict test set\n#predicted_lables = predict.eval(feed_dict={x: test_images, keep_prob: 1.0})\n\n# using batches is more resource efficient\npredicted_lables = np.zeros(test_images.shape[0])\nfor i in range(0,test_images.shape[0]//BATCH_SIZE):\n    predicted_lables[i*BATCH_SIZE : (i+1)*BATCH_SIZE] = predict.eval(feed_dict={x: test_images[i*BATCH_SIZE : (i+1)*BATCH_SIZE], \n                                                                                keep_prob: 1.0})\n\n\nprint('predicted_lables({0})'.format(len(predicted_lables)))\n\n# output test image and prediction\ndisplay(test_images[IMAGE_TO_DISPLAY])\nprint ('predicted_lables[{0}] => {1}'.format(IMAGE_TO_DISPLAY,predicted_lables[IMAGE_TO_DISPLAY]))\n\n# save results\nnp.savetxt('submission_softmax.csv', \n           np.c_[range(1,len(test_images)+1),predicted_lables], \n           delimiter=',', \n           header = 'ImageId,Label', \n           comments = '', \n           fmt='%d')",
      "execution_count": null,
      "outputs": []
    },
    {
      "metadata": {
        "_uuid": "e53dacb57fe4df107faf83b36ac5882071175ebf",
        "_cell_guid": "02ebd2af-6272-45a6-ab54-b796842d010b"
      },
      "cell_type": "markdown",
      "source": "## Appendix\nAs it was mentioned before, it is good to output some variables for a better understanding of the process. \n\nHere we pull an output of the first convolution layer from TensorFlow graph. 32 features are transformed into an image grid, and it's quite interesting to see how filters picked by NN outline characteristics of different digits."
    },
    {
      "metadata": {
        "_uuid": "ace37d656dc1788bfbefc4fd02d1cc517e18a8a5",
        "_cell_guid": "2f6d8008-26eb-451c-bca9-29e7d73b9a9d",
        "trusted": false
      },
      "cell_type": "code",
      "source": "layer1_grid = layer1.eval(feed_dict={x: test_images[IMAGE_TO_DISPLAY:IMAGE_TO_DISPLAY+1], keep_prob: 1.0})\nplt.axis('off')\nplt.imshow(layer1_grid[0], cmap=cm.seismic )",
      "execution_count": null,
      "outputs": []
    },
    {
      "metadata": {
        "_uuid": "28e381ab0f36ad3e1022c90817c1c6aca76a5f3c",
        "_cell_guid": "9b93a2fa-0f1a-4178-aed1-b1aa901a9da8",
        "trusted": false
      },
      "cell_type": "code",
      "source": "sess.close()",
      "execution_count": null,
      "outputs": []
    },
    {
      "metadata": {
        "_uuid": "6246d8873472227ccceb4f772ac2fd79843b36ad",
        "_cell_guid": "59ad4fb1-135c-4d42-8350-673bce5cf528"
      },
      "cell_type": "markdown",
      "source": "## Reference\n- [Deep MNIST for Experts](https://www.tensorflow.org/versions/master/tutorials/mnist/pros/index.html#deep-mnist-for-experts)\n- [A Convolutional Network implementation example using TensorFlow library](https://github.com/aymericdamien/TensorFlow-Examples/blob/master/notebooks/3%20-%20Neural%20Networks/convolutional_network.ipynb)\n- [Digit recognizer in Python using CNN](https://www.kaggle.com/kobakhit/digit-recognizer/digit-recognizer-in-python-using-cnn)\n- [Deep Learning in a Nutshell: Core Concepts](http://devblogs.nvidia.com/parallelforall/deep-learning-nutshell-core-concepts/)"
    }
  ],
  "metadata": {
    "kernelspec": {
      "display_name": "Python 3",
      "language": "python",
      "name": "python3"
    },
    "language_info": {
      "name": "python",
      "version": "3.6.3",
      "mimetype": "text/x-python",
      "codemirror_mode": {
        "name": "ipython",
        "version": 3
      },
      "pygments_lexer": "ipython3",
      "nbconvert_exporter": "python",
      "file_extension": ".py"
    }
  },
  "nbformat": 4,
  "nbformat_minor": 1
}